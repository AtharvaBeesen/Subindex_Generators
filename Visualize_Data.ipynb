{
 "cells": [
  {
   "cell_type": "code",
   "execution_count": null,
   "id": "46a0365b",
   "metadata": {},
   "outputs": [],
   "source": [
    "import geopandas as gpd\n",
    "import matplotlib.pyplot as plt\n",
    "from matplotlib.colors import LinearSegmentedColormap\n",
    "\n",
    "#--------------------\n",
    "\n",
    "# LOAD THE GEOJSON FILE YOU WANT TO VISUALIZE\n",
    "geojson_path = \"path_to_your_geojson_file.geojson\" #REPLACE THIS WITH YOUR FILE!\n",
    "\n",
    "#---------------------\n",
    "\n",
    "gdf = gpd.read_file(geojson_path)\n",
    "\n",
    "# Check the data structure\n",
    "# print(gdf.head())\n",
    "\n",
    "# Define a custom color gradient (red -> yellow -> green)\n",
    "custom_cmap = LinearSegmentedColormap.from_list(\"RedYellowGreen\", [\"red\", \"yellow\", \"green\"])\n",
    "\n",
    "# Plot the GeoJSON file\n",
    "fig, ax = plt.subplots(1, 1, figsize=(12, 8))\n",
    "gdf.plot(\n",
    "    column='subindex',  # Replace 'Subindex' with the column you want to visualize\n",
    "    cmap=custom_cmap,  # Color map\n",
    "    legend=True,\n",
    "    ax=ax,\n",
    "    edgecolor='black'\n",
    ")\n",
    "\n",
    "# Add title and axis labels\n",
    "ax.set_title(\"VIP-SMUR-PEI Visualization\", fontsize=16) # Change title based on subindex\n",
    "ax.set_xlabel(\"Longitude\", fontsize=12)\n",
    "ax.set_ylabel(\"Latitude\", fontsize=12)\n",
    "\n",
    "# Show the plot\n",
    "plt.show()\n"
   ]
  }
 ],
 "metadata": {
  "kernelspec": {
   "display_name": "Python 3 (ipykernel)",
   "language": "python",
   "name": "python3"
  },
  "language_info": {
   "codemirror_mode": {
    "name": "ipython",
    "version": 3
   },
   "file_extension": ".py",
   "mimetype": "text/x-python",
   "name": "python",
   "nbconvert_exporter": "python",
   "pygments_lexer": "ipython3",
   "version": "3.10.9"
  }
 },
 "nbformat": 4,
 "nbformat_minor": 5
}
